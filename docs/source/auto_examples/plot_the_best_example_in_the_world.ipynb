{
  "cells": [
    {
      "cell_type": "markdown",
      "metadata": {},
      "source": [
        "\n# The Best Example in the World\n\nThis is the best example in the world.\n"
      ]
    },
    {
      "cell_type": "markdown",
      "metadata": {},
      "source": [
        "## This is a new cell\n\nWith rst syntax in it.\nLet's use :class:`~torchtune.models.llama2.attention.LlamaSelfAttention`. <-- This\nshould be a link to the class, and you should see a \"Examples using LlamaSelfAttention\" backlink on that docstring.\n\n"
      ]
    },
    {
      "cell_type": "markdown",
      "metadata": {},
      "source": [
        "Another cell, with code this time:\n\n"
      ]
    },
    {
      "cell_type": "code",
      "execution_count": null,
      "metadata": {
        "collapsed": false
      },
      "outputs": [],
      "source": [
        "from torchtune.models.llama2.attention import LlamaSelfAttention\n\nprint(LlamaSelfAttention)"
      ]
    }
  ],
  "metadata": {
    "kernelspec": {
      "display_name": "Python 3",
      "language": "python",
      "name": "python3"
    },
    "language_info": {
      "codemirror_mode": {
        "name": "ipython",
        "version": 3
      },
      "file_extension": ".py",
      "mimetype": "text/x-python",
      "name": "python",
      "nbconvert_exporter": "python",
      "pygments_lexer": "ipython3",
      "version": "3.10.13"
    }
  },
  "nbformat": 4,
  "nbformat_minor": 0
}
